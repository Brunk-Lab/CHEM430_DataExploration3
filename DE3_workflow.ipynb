{
 "cells": [
  {
   "cell_type": "markdown",
   "id": "fbfdb68d",
   "metadata": {},
   "source": [
    "# Python & Metabolism Tutorial: A Complete Introduction for Beginners\n",
    "\n",
    "Genome-scale metabolic models are used to engineer novel pathways into microorganisms, such as E. Coli and yeast. These novel pathways are used to produce biofuels or other commodity chemicals. In this tutorial, we will go through how to visualize genetic engineering in E coli and how to select genes to increase growth rates. "
   ]
  },
  {
   "cell_type": "markdown",
   "id": "f393eb61",
   "metadata": {},
   "source": [
    "## 1.0 Visualizing Pathways using Escher\n",
    "\n",
    "Escher is a visualization tool that can be helpful to visualize and analyze changes in metabolic pathways. In this part of the tutorial you will be loading the general (less detailed) version of a metabolic map of E. coli, a bacteria. You will be able to see all of the main, central parts of metabolism for this organism. \n",
    "\n",
    "> Start by navigating your browser to https://escher.github.io/#/\n",
    "\n",
    "\n",
    "> Under the \"Map\" tab, select \"Core Metabolism (e_coli core)\"\n",
    "\n",
    "\n",
    "> Click \"Load Map\"\n",
    "\n",
    "\n",
    "* You should see a map that looks like this:\n",
    "\n",
    "<img src=\"CHEM430_DataExploration4/ecoli_core.png\" style=\"max-width:100%; width: 30%; max-width: none\">\n",
    "\n",
    "\n",
    "* Hover your cursor over the different reactions (links) and metabolites (nodes) in the map to see their description and full names\n",
    "\n",
    "* Navigate your mouse to the side bar on the left of your screen, you can test out the zoom, the search, and the addition functions\n",
    "\n",
    "> use command F (or your computer's find function) to locate \"glc__D_e\" -> this refers to extracellular glucose that is coming into the cell"
   ]
  },
  {
   "cell_type": "markdown",
   "id": "6fe0178a",
   "metadata": {},
   "source": [
    "### A note on how to understand the visual components of the metabolic pathway\n",
    "\n",
    " > Each link (or arrow) represents an enzyme or a reaction\n",
    " \n",
    " > Each node (or ball) represents a metabolite or cofactor that is being consumed or created in a reaction\n",
    " \n",
    " \n",
    " #### A few key concepts to understand: \n",
    " \n",
    " * The connectivity of the metabolic pathway is a key property that enables cells to function and grow\n",
    " * Some pathways are redundant, and so, if the cell \"looses\" a protein in a redundant pathway, it can turn to an alternative one to continue growing\n",
    " * Some pathways are essential, which means, if the cell \"looses\" a protein in an essential pathway, it can no longer grow and will die\n",
    " * \"Loosing\" a protein can happen if a mutation occurs that disrupts the function of the enzyme"
   ]
  },
  {
   "cell_type": "markdown",
   "id": "3f240ded",
   "metadata": {},
   "source": [
    "## Exercise\n",
    "\n",
    "**Try on your own**\n",
    "\n",
    "1. Find all the glycolysis pathway steps; list out their Map-version IDs \n",
    "\n",
    "2. Find all metabolites that are involved in the  glycolysis steps, list out their Map-version IDs \n",
    "\n",
    "    HINT #1: Hexokinase is not shown but \"glucose-6-phosphate isomerase\" has a Map-version ID of PGI\n",
    "\n",
    "\n",
    "   \n"
   ]
  },
  {
   "cell_type": "markdown",
   "id": "af37f093",
   "metadata": {},
   "source": [
    "## 2.0 Visualizing genetic engineering\n"
   ]
  },
  {
   "cell_type": "markdown",
   "id": "ef2e9a13",
   "metadata": {},
   "source": [
    "You can also use the Escher tool to visualize how the metabolic network will change in response to a gene deletion.\n",
    "Genes can be \"deleted\" from genomes such that the cell can no longer access that genetic material to make its \n",
    "encoding protein. We often delete genes to understand their roles and functions within entire systems.\n",
    "\n",
    "> Start by navigating your browser to https://escher.github.io/#/\n",
    "\n",
    "\n",
    "> Under the \"Escher Maps\" tab, select \"Escher-FBA\"\n",
    "\n",
    "\n",
    "> Click \"Launch Escher-FBA\"\n",
    "\n",
    "\n",
    "* You should see a map that looks similar to the \"e coli core metabolism\" map from section 1.0. The main difference is that the links are colored in different colors, which represent how much metabolic flux is moving through that reaction.\n",
    "\n",
    "<img src=\"CHEM430_DataExploration4/escher.png\" style=\"max-width:100%; width: 30%; max-width: none\">"
   ]
  },
  {
   "cell_type": "markdown",
   "id": "7e499b6f",
   "metadata": {},
   "source": [
    "### What is metabolic flux?\n",
    "\n",
    " > metabolic flux represents the amount of metabolites moving through a chemical reaction\n",
    " \n",
    " > in other words, flux is proportional to the number of reactants converted to products\n",
    " \n",
    " \n",
    " #### A few key concepts to understand: \n",
    " \n",
    "* the higher the metabolic flux, the more metabolites are being consumed/produced in that enzymatic reation\n",
    "* the metabolic flux varies reaction to reaction - some enzymes carry high flux, others low\n",
    "* the metabolic flux can change depending on environment and genetic modifications\n",
    "* environmental changes occur in different nutrient environments whereas genetic changes (like gene deletions) can alter metabolic fluxes across the entire metabolic system"
   ]
  },
  {
   "cell_type": "markdown",
   "id": "6d393da7",
   "metadata": {},
   "source": [
    "### What is FBA?\n",
    "\n",
    " > FBA is a computational approach that calculates the flux across all reactions in a metabolic network model\n",
    " \n",
    " > the model you are working with right now is referred to as the \"E coli core metabolic model\"\n",
    " \n",
    " \n",
    " #### Why do fluxes matter? \n",
    " \n",
    "* By computing flux, we can computationally predict the growth rate of the bacteria\n",
    "* Note on your screen you should see:\n",
    "\n",
    "> Current Flux: Biomass_Ecoli_core_w_GAM\n",
    "\n",
    "\n",
    "> Flux Through Objective: 0.874\n",
    "\n",
    "* The \"Current Flux\" is referring to the flux calculated for the model, the \"Flux through objective\" refers to the growth rate."
   ]
  },
  {
   "cell_type": "markdown",
   "id": "a973db7e",
   "metadata": {},
   "source": [
    "### \"Knocking out genes\"\n",
    "\n",
    "You can use Escher-FBA to visualize the metabolic flux effects of deleting genes\n",
    "\n",
    "> Hover your mouse over a reaction and watch a small box pop up. In the box is an option \"Knock out\" - once you click this, you should see the flux for that reaction go to zero.\n",
    "\n"
   ]
  },
  {
   "cell_type": "markdown",
   "id": "a48b76b6",
   "metadata": {},
   "source": [
    "## Exercise\n",
    "\n",
    "**Try on your own**\n",
    "\n",
    "1. Find \"SUCOAS,\" which is a reaction in the Citric Acid Cycle (which we learn about in this class). Hover your mouse over this reaction and click the option \"Knock out.\" This will \"delete\" this gene from the bacteria so that it can no longer be of use to the cell. What happens to the flux map after doing so? What happens to the \"Flux Through Objective\"?\n",
    "\n",
    "2. Knock out the reactions in glycolysis using the same approach, what happens after doing so? Remember to click \"Reset Map\" at the bottom of your browser to bring the map back to its original flux map. What happens to the flux map after doing so? What happens to the \"Flux Through Objective\"?\n",
    "\n",
    "3. For each case, decide what this means about each of these reactions - are they redundant or essential?\n",
    "\n",
    "\n"
   ]
  },
  {
   "cell_type": "markdown",
   "id": "03dd582b",
   "metadata": {},
   "source": [
    "## 3.0 Working with growth rate data\n"
   ]
  },
  {
   "cell_type": "code",
   "execution_count": 32,
   "id": "21c7d805",
   "metadata": {},
   "outputs": [],
   "source": [
    "import pandas as pd\n",
    "import os"
   ]
  },
  {
   "cell_type": "markdown",
   "id": "18b31723",
   "metadata": {},
   "source": [
    "### Growth in different nutrient environments\n",
    "\n",
    "Below is actual data that was measured after knocking out genes in E coli (taken from the paper Brunk et. al. Cell Systems 2016).\n",
    "\n",
    "Three nutrient conditions are considered: growth on acetate, growth on fructose and growth on glucose. \n",
    "    \n",
    "Bacteria can use each of these nutrient metabolites as input into their metabolic pathways, \n",
    "but each of these metabolites will change the types of pathways used by the cell. You have learned what pathways are\n",
    "utilized by the cell in the presence of glucose. "
   ]
  },
  {
   "cell_type": "markdown",
   "id": "76b6f15f",
   "metadata": {},
   "source": [
    "### How genetic deletions can affect metabolism and cellular growth\n",
    "\n",
    "In the data given below, each of the genes in the rows represent the gene that was deleted in the E coli bacteria. \n",
    "\n",
    "Any value greater than 1.0 represents an increase in the growth rate compared to wildtype (or E coli with no genetic knockdown)"
   ]
  },
  {
   "cell_type": "code",
   "execution_count": 9,
   "id": "3ee44e10",
   "metadata": {
    "scrolled": true
   },
   "outputs": [
    {
     "data": {
      "text/html": [
       "<div>\n",
       "<style scoped>\n",
       "    .dataframe tbody tr th:only-of-type {\n",
       "        vertical-align: middle;\n",
       "    }\n",
       "\n",
       "    .dataframe tbody tr th {\n",
       "        vertical-align: top;\n",
       "    }\n",
       "\n",
       "    .dataframe thead th {\n",
       "        text-align: right;\n",
       "    }\n",
       "</style>\n",
       "<table border=\"1\" class=\"dataframe\">\n",
       "  <thead>\n",
       "    <tr style=\"text-align: right;\">\n",
       "      <th></th>\n",
       "      <th>acetate</th>\n",
       "      <th>fructose</th>\n",
       "      <th>glucose</th>\n",
       "      <th>total</th>\n",
       "      <th>Total_Rank</th>\n",
       "      <th>Acetate_Rank</th>\n",
       "    </tr>\n",
       "  </thead>\n",
       "  <tbody>\n",
       "    <tr>\n",
       "      <th>ydbK</th>\n",
       "      <td>1.033333</td>\n",
       "      <td>1.086667</td>\n",
       "      <td>1.136667</td>\n",
       "      <td>3.256667</td>\n",
       "      <td>1.0</td>\n",
       "      <td>3.5</td>\n",
       "    </tr>\n",
       "    <tr>\n",
       "      <th>metN</th>\n",
       "      <td>1.030000</td>\n",
       "      <td>1.063333</td>\n",
       "      <td>1.053333</td>\n",
       "      <td>3.146666</td>\n",
       "      <td>5.0</td>\n",
       "      <td>5.0</td>\n",
       "    </tr>\n",
       "    <tr>\n",
       "      <th>ytfE</th>\n",
       "      <td>1.046667</td>\n",
       "      <td>1.076667</td>\n",
       "      <td>1.070000</td>\n",
       "      <td>3.193334</td>\n",
       "      <td>2.0</td>\n",
       "      <td>2.0</td>\n",
       "    </tr>\n",
       "    <tr>\n",
       "      <th>astA</th>\n",
       "      <td>1.033333</td>\n",
       "      <td>1.050000</td>\n",
       "      <td>1.076667</td>\n",
       "      <td>3.160000</td>\n",
       "      <td>3.0</td>\n",
       "      <td>3.5</td>\n",
       "    </tr>\n",
       "    <tr>\n",
       "      <th>astC</th>\n",
       "      <td>1.080000</td>\n",
       "      <td>1.026667</td>\n",
       "      <td>1.050000</td>\n",
       "      <td>3.156667</td>\n",
       "      <td>4.0</td>\n",
       "      <td>1.0</td>\n",
       "    </tr>\n",
       "    <tr>\n",
       "      <th>glcE</th>\n",
       "      <td>1.023333</td>\n",
       "      <td>0.986667</td>\n",
       "      <td>1.023333</td>\n",
       "      <td>3.033333</td>\n",
       "      <td>6.0</td>\n",
       "      <td>6.0</td>\n",
       "    </tr>\n",
       "  </tbody>\n",
       "</table>\n",
       "</div>"
      ],
      "text/plain": [
       "       acetate  fructose   glucose     total  Total_Rank  Acetate_Rank\n",
       "ydbK  1.033333  1.086667  1.136667  3.256667         1.0           3.5\n",
       "metN  1.030000  1.063333  1.053333  3.146666         5.0           5.0\n",
       "ytfE  1.046667  1.076667  1.070000  3.193334         2.0           2.0\n",
       "astA  1.033333  1.050000  1.076667  3.160000         3.0           3.5\n",
       "astC  1.080000  1.026667  1.050000  3.156667         4.0           1.0\n",
       "glcE  1.023333  0.986667  1.023333  3.033333         6.0           6.0"
      ]
     },
     "execution_count": 9,
     "metadata": {},
     "output_type": "execute_result"
    }
   ],
   "source": [
    "growth_rates = {\n",
    "    'acetate': [1.033333,1.030000,1.046667,1.033333,1.080000,1.023333],\n",
    "    'fructose':[1.086667,1.063333,1.076667,1.050000,1.026667,0.986667 ],\n",
    "    'glucose':[1.136667,1.053333,1.070000,1.076667,1.050000,1.023333],\n",
    "}\n",
    "\n",
    "DataFrame_KOs = pd.DataFrame(growth_rates, index=['ydbK', 'metN', 'ytfE','astA','astC','glcE'])\n",
    "\n",
    "DataFrame_KOs['total'] = DataFrame_KOs['acetate']+DataFrame_KOs['fructose']+DataFrame_KOs['glucose']\n",
    "\n",
    "DataFrame_KOs['Total_Rank'] = DataFrame_KOs['total'].rank(ascending=False)\n",
    "\n",
    "DataFrame_KOs['Acetate_Rank'] = DataFrame_KOs['acetate'].rank(ascending=False)\n",
    "\n",
    "DataFrame_KOs\n",
    "\n",
    "\n",
    "\n",
    "\n"
   ]
  },
  {
   "cell_type": "markdown",
   "id": "8ddf2e5c",
   "metadata": {
    "jp-MarkdownHeadingCollapsed": true
   },
   "source": [
    "## Exercise\n",
    "\n",
    "**Try on your own**\n",
    "\n",
    "1. Revisit some of the material that was covered in DE1 to rank these gene knockdowns in terms of which \n",
    "leads to the highest growth rate across all conditions. I want you to practice this using python.\n",
    "\n",
    "    HINT #1: You can add an additional column to the dataframe that will give you a sum of the three growth rates\n",
    "    For example, \"acetate\", \"fructose\" and \"glucose\" can be added together using the following command:\n",
    "        \n",
    "        > DataFrame_KOs['total'] = DataFrame_KOs['acetate']+DataFrame_KOs['fructose']+DataFrame_KOs['glucose']\n",
    "        \n",
    "    Then you can rank order based on the total value using the command you learned from DE1. Make sure you understand how to manipulate data using python-based codes. \n",
    "    \n",
    "    \n",
    "    \n",
    "2. Imagine that you are a metabolic engineer that is working to genetically engineer E coli to grow more robustly on acetate. Which genes would you decide to genetically knockdown to engineer your bacteria?\n",
    "\n",
    "\n",
    "3. Now, imagine that you are a metabolic engineer that is working to genetically engineer E coli to grow faster across all three nutrient conditions. You would like to oscillate nutrient input and want to make sure you choose the best genetic knockdowns that will optimize across all conditions. Which two genes would you choose?\n",
    "\n",
    "\n",
    "\n"
   ]
  },
  {
   "cell_type": "markdown",
   "id": "efa53866",
   "metadata": {},
   "source": [
    "## 4.0 Working with metabolomic data\n"
   ]
  },
  {
   "cell_type": "markdown",
   "id": "14b8f2f5",
   "metadata": {},
   "source": [
    "### Engineering new pathways in E coli \n",
    "\n",
    "In the paper, Brunk et al. Cell Systems 2016, E coli was engineered to produce biofuels by inserting a pathway \n",
    "called the mevalonate pathway, which does not occur in bacteria). The genes encoding the proteins for different steps\n",
    "in the mevalonate pathway were taken from other eukaryotic organisms, such as yeast and plants. \n",
    "\n",
    "#### Understanding the effect of engineering on metabolism\n",
    "\n",
    "Shown in the figure below are several key concepts:\n",
    "\n",
    "* In (a), different genes are strung together to create the backbone of the mevalonate pathway to produce different fuel produces, isopentenol, limonene and bisabolene\n",
    "\n",
    "* In (b), growth rates of different engineered strains of bacteria were measured to understand the effects of inserting this pathway into the bacterial cell. In addition, metabolites were measured at various time points to understand how this pathway affects E coli metabolism. \n",
    "\n",
    "The main point of this study was to understand the impact on host metabolism (E coli) in order to engineer bacteria to be more efficient in producing the biofuels.\n"
   ]
  },
  {
   "cell_type": "markdown",
   "id": "6dcea243",
   "metadata": {},
   "source": [
    "<img src=\"CHEM430_DataExploration4/overview_methods_fig1.png\" style=\"max-width:100%; width: 30%; max-width: none\">\n"
   ]
  },
  {
   "cell_type": "markdown",
   "id": "7b853d19",
   "metadata": {},
   "source": [
    "In this tutorial, we will work with wild-type E coli (WT) and the most efficient strain producing isopentenol (I3). "
   ]
  },
  {
   "cell_type": "markdown",
   "id": "7324d880",
   "metadata": {},
   "source": [
    "### 4.1 Load in the data"
   ]
  },
  {
   "cell_type": "markdown",
   "id": "3d7ba677",
   "metadata": {},
   "source": [
    "First, we will set our root directory so that this workflow knows how to access the data files in the data folder"
   ]
  },
  {
   "cell_type": "code",
   "execution_count": 35,
   "id": "b3d66a6b",
   "metadata": {},
   "outputs": [],
   "source": [
    "# Data directory\n",
    "ROOT_DIR = '~/data-store'\n",
    "EC_data = 'CHEM430_DataExploration4/data/'"
   ]
  },
  {
   "cell_type": "markdown",
   "id": "331e1277",
   "metadata": {},
   "source": [
    "Second, we will load in the files. The first is a file that provides a dictionary of metabolite IDs to their full names.\n",
    "Note that the metabolite IDs (called BiGG_id) are the same type of identifiers as the Map version IDs that you used in \n",
    "the first two sections of this tutorial"
   ]
  },
  {
   "cell_type": "code",
   "execution_count": 36,
   "id": "311a8e30",
   "metadata": {},
   "outputs": [],
   "source": [
    "metabolite_IDs = pd.read_csv(EC_data+'metabolite_identifiers.csv',index_col=0)\n"
   ]
  },
  {
   "cell_type": "code",
   "execution_count": 12,
   "id": "acb841f3",
   "metadata": {},
   "outputs": [
    {
     "data": {
      "text/html": [
       "<div>\n",
       "<style scoped>\n",
       "    .dataframe tbody tr th:only-of-type {\n",
       "        vertical-align: middle;\n",
       "    }\n",
       "\n",
       "    .dataframe tbody tr th {\n",
       "        vertical-align: top;\n",
       "    }\n",
       "\n",
       "    .dataframe thead th {\n",
       "        text-align: right;\n",
       "    }\n",
       "</style>\n",
       "<table border=\"1\" class=\"dataframe\">\n",
       "  <thead>\n",
       "    <tr style=\"text-align: right;\">\n",
       "      <th></th>\n",
       "      <th>BiGG_id</th>\n",
       "      <th>metabolite_name</th>\n",
       "      <th>name</th>\n",
       "    </tr>\n",
       "  </thead>\n",
       "  <tbody>\n",
       "    <tr>\n",
       "      <th>0</th>\n",
       "      <td>glx_c</td>\n",
       "      <td>Glyoxylate</td>\n",
       "      <td>Glyoxylate (uM)</td>\n",
       "    </tr>\n",
       "    <tr>\n",
       "      <th>1</th>\n",
       "      <td>3pg_c</td>\n",
       "      <td>3-Phospho-D-glycerate</td>\n",
       "      <td>3-P Glycerate (uM)</td>\n",
       "    </tr>\n",
       "    <tr>\n",
       "      <th>2</th>\n",
       "      <td>mev_R_e</td>\n",
       "      <td>Mevalonate</td>\n",
       "      <td>MEVALONATE extracellular (uM)</td>\n",
       "    </tr>\n",
       "    <tr>\n",
       "      <th>3</th>\n",
       "      <td>nad_e</td>\n",
       "      <td>Nicotinamide adenine dinucleotide</td>\n",
       "      <td>NAD extracellular (uM)</td>\n",
       "    </tr>\n",
       "    <tr>\n",
       "      <th>4</th>\n",
       "      <td>ser__L_c</td>\n",
       "      <td>L-Serine</td>\n",
       "      <td>Serine</td>\n",
       "    </tr>\n",
       "    <tr>\n",
       "      <th>5</th>\n",
       "      <td>dxyl5p_e</td>\n",
       "      <td>1-Deoxy-D-xylulose 5-Phosphate</td>\n",
       "      <td>DXP extracellular (uM)</td>\n",
       "    </tr>\n",
       "    <tr>\n",
       "      <th>6</th>\n",
       "      <td>atp_e</td>\n",
       "      <td>ATP</td>\n",
       "      <td>ATP extracellular (uM)</td>\n",
       "    </tr>\n",
       "    <tr>\n",
       "      <th>7</th>\n",
       "      <td>for_e</td>\n",
       "      <td>Formate</td>\n",
       "      <td>Formate g/L</td>\n",
       "    </tr>\n",
       "    <tr>\n",
       "      <th>8</th>\n",
       "      <td>ip_e</td>\n",
       "      <td>Isopentenol-P</td>\n",
       "      <td>IP extracellular (uM)</td>\n",
       "    </tr>\n",
       "    <tr>\n",
       "      <th>9</th>\n",
       "      <td>his__L_c</td>\n",
       "      <td>L-Histidine</td>\n",
       "      <td>Histidine</td>\n",
       "    </tr>\n",
       "    <tr>\n",
       "      <th>10</th>\n",
       "      <td>succ_e</td>\n",
       "      <td>Succinate</td>\n",
       "      <td>Succinate g/L</td>\n",
       "    </tr>\n",
       "    <tr>\n",
       "      <th>11</th>\n",
       "      <td>2mecdp_e</td>\n",
       "      <td>2-C-Methyl-D-erythritol 2,4-cyclodiphosphate</td>\n",
       "      <td>MEcPP extracellular (uM)</td>\n",
       "    </tr>\n",
       "    <tr>\n",
       "      <th>12</th>\n",
       "      <td>lim_c</td>\n",
       "      <td>Limonene</td>\n",
       "      <td>Limonene g/L</td>\n",
       "    </tr>\n",
       "    <tr>\n",
       "      <th>13</th>\n",
       "      <td>trp__L_c</td>\n",
       "      <td>L-Tryptophan</td>\n",
       "      <td>Tryptophan</td>\n",
       "    </tr>\n",
       "    <tr>\n",
       "      <th>14</th>\n",
       "      <td>adp_e</td>\n",
       "      <td>ADP</td>\n",
       "      <td>ADP extracellular (uM)</td>\n",
       "    </tr>\n",
       "    <tr>\n",
       "      <th>15</th>\n",
       "      <td>ip_c</td>\n",
       "      <td>Isopentenol-P</td>\n",
       "      <td>IP (uM)</td>\n",
       "    </tr>\n",
       "    <tr>\n",
       "      <th>16</th>\n",
       "      <td>accoa_e</td>\n",
       "      <td>Acetyl-CoA</td>\n",
       "      <td>Acetyl-CoA extracellular (uM)</td>\n",
       "    </tr>\n",
       "    <tr>\n",
       "      <th>17</th>\n",
       "      <td>ala__L_c</td>\n",
       "      <td>L-Alanine</td>\n",
       "      <td>Alanine</td>\n",
       "    </tr>\n",
       "    <tr>\n",
       "      <th>18</th>\n",
       "      <td>nadph_e</td>\n",
       "      <td>Nicotinamide adenine dinucleotide phosphate - ...</td>\n",
       "      <td>NADPH extracellular (uM)</td>\n",
       "    </tr>\n",
       "    <tr>\n",
       "      <th>19</th>\n",
       "      <td>asn__L_c</td>\n",
       "      <td>L-Asparagine</td>\n",
       "      <td>Asparagine</td>\n",
       "    </tr>\n",
       "  </tbody>\n",
       "</table>\n",
       "</div>"
      ],
      "text/plain": [
       "     BiGG_id                                    metabolite_name  \\\n",
       "0      glx_c                                         Glyoxylate   \n",
       "1      3pg_c                              3-Phospho-D-glycerate   \n",
       "2    mev_R_e                                         Mevalonate   \n",
       "3      nad_e                  Nicotinamide adenine dinucleotide   \n",
       "4   ser__L_c                                           L-Serine   \n",
       "5   dxyl5p_e                     1-Deoxy-D-xylulose 5-Phosphate   \n",
       "6      atp_e                                                ATP   \n",
       "7      for_e                                            Formate   \n",
       "8       ip_e                                      Isopentenol-P   \n",
       "9   his__L_c                                        L-Histidine   \n",
       "10    succ_e                                          Succinate   \n",
       "11  2mecdp_e       2-C-Methyl-D-erythritol 2,4-cyclodiphosphate   \n",
       "12     lim_c                                           Limonene   \n",
       "13  trp__L_c                                       L-Tryptophan   \n",
       "14     adp_e                                                ADP   \n",
       "15      ip_c                                      Isopentenol-P   \n",
       "16   accoa_e                                         Acetyl-CoA   \n",
       "17  ala__L_c                                          L-Alanine   \n",
       "18   nadph_e  Nicotinamide adenine dinucleotide phosphate - ...   \n",
       "19  asn__L_c                                       L-Asparagine   \n",
       "\n",
       "                             name  \n",
       "0                 Glyoxylate (uM)  \n",
       "1              3-P Glycerate (uM)  \n",
       "2   MEVALONATE extracellular (uM)  \n",
       "3          NAD extracellular (uM)  \n",
       "4                          Serine  \n",
       "5          DXP extracellular (uM)  \n",
       "6          ATP extracellular (uM)  \n",
       "7                     Formate g/L  \n",
       "8           IP extracellular (uM)  \n",
       "9                       Histidine  \n",
       "10                  Succinate g/L  \n",
       "11       MEcPP extracellular (uM)  \n",
       "12                   Limonene g/L  \n",
       "13                     Tryptophan  \n",
       "14         ADP extracellular (uM)  \n",
       "15                        IP (uM)  \n",
       "16  Acetyl-CoA extracellular (uM)  \n",
       "17                        Alanine  \n",
       "18       NADPH extracellular (uM)  \n",
       "19                     Asparagine  "
      ]
     },
     "execution_count": 12,
     "metadata": {},
     "output_type": "execute_result"
    }
   ],
   "source": [
    "metabolite_IDs.head(20)"
   ]
  },
  {
   "cell_type": "markdown",
   "id": "b2d99ed8",
   "metadata": {},
   "source": [
    "Third, we load in the wild-type metabolomics data and the engineered strain (I3) metabolomics data. \n",
    "\n",
    "> The WT data will be stored in a pandas dataframe called \"WT_data\"\n",
    "\n",
    "> The engineered data will be stored in a pandas dataframe called \"I3_data\"\n",
    "\n",
    "The data that will be loaded has the following properties:\n",
    "\n",
    "* 5 different time points at hours 0, 2, 4, 6, and 8\n",
    "* many different metabolites that are measured, both intracellular and extracellular, across these different time points\n",
    "* growth at each of the time points was also measured, this is done by measuring the optical density (OD) of the cells"
   ]
  },
  {
   "cell_type": "code",
   "execution_count": 37,
   "id": "e674aab5",
   "metadata": {
    "scrolled": true
   },
   "outputs": [
    {
     "name": "stdout",
     "output_type": "stream",
     "text": [
      "Number of columns ending with '_c and _e': 83\n"
     ]
    }
   ],
   "source": [
    "WT_data = pd.read_csv(EC_data+'DH1.csv',index_col=0)\n",
    "WT_data.head()\n",
    "count_metabolite_columns = sum(col.endswith('_e') or col.endswith('_c') for col in WT_data.columns)\n",
    "print(\"Number of columns ending with '_c and _e':\", count_metabolite_columns)"
   ]
  },
  {
   "cell_type": "code",
   "execution_count": 38,
   "id": "5b6e2183",
   "metadata": {},
   "outputs": [
    {
     "name": "stdout",
     "output_type": "stream",
     "text": [
      "Total entries = 1162\n"
     ]
    }
   ],
   "source": [
    "I3_data = pd.read_csv(EC_data+'I3.csv',index_col=0)\n",
    "#I3_data.head()\n",
    "e_columns = [col for col in I3_data.columns if col.endswith('_e') or col.endswith('_c') ]\n",
    "I3_data_e = I3_data[e_columns]\n",
    "total_entries_e = I3_data_e.size\n",
    "print(\"Total entries =\", total_entries_e)\n",
    "\n",
    "\n"
   ]
  },
  {
   "cell_type": "markdown",
   "id": "d5af9f21",
   "metadata": {},
   "source": [
    "## Exercise\n",
    "\n",
    "**Try on your own**\n",
    "\n",
    "1. Using python, figure out how many total metabolites were measured in this data set\n",
    "\n",
    "    HINT #1: You can use knowledge from DE1 to count the number of columns in the WT_data dataframe that correspond to metabolites, pay attention to how metabolites are named differently in the dataframe. \n",
    "    \n",
    "2. Using python, figure out how many total metabolite measurements were performed in the experiment "
   ]
  },
  {
   "cell_type": "markdown",
   "id": "c3475369",
   "metadata": {},
   "source": [
    "### 4.2 Plotting the Data"
   ]
  },
  {
   "cell_type": "markdown",
   "id": "504a7343",
   "metadata": {},
   "source": [
    "Next, we will plot the data we just loaded, starting with growth rates. \n",
    "\n",
    "We can plot this on the same plot so that we can compare WT and I3, using the following command:"
   ]
  },
  {
   "cell_type": "code",
   "execution_count": 19,
   "id": "03b53d55",
   "metadata": {},
   "outputs": [
    {
     "data": {
      "image/png": "[encoded data removed]",
      "text/plain": [
       "<Figure size 640x480 with 1 Axes>"
      ]
     },
     "metadata": {},
     "output_type": "display_data"
    }
   ],
   "source": [
    "import matplotlib.pyplot as plt\n",
    "  \n",
    "# create data\n",
    "x1 = WT_data[WT_data.OD600>0].Hour.tolist()\n",
    "y1 = WT_data[WT_data.OD600>0].OD600.tolist()\n",
    "\n",
    "x2 = I3_data[I3_data.OD600>0].Hour.tolist()\n",
    "y2 = I3_data[I3_data.OD600>0].OD600.tolist()\n",
    "\n",
    "# plot lines\n",
    "plt.plot(x1, y1, label = \"WT\")\n",
    "plt.plot(x2, y2, label = \"I3\")\n",
    "plt.legend()\n",
    "plt.xlabel(\"Time (Hours)\")\n",
    "plt.ylabel(\"Growth (OD)\")\n",
    "plt.show()\n",
    "\n"
   ]
  },
  {
   "cell_type": "markdown",
   "id": "90fa3203",
   "metadata": {},
   "source": [
    "## Exercise\n",
    "\n",
    "**Try on your own**\n",
    "\n",
    "1. Which of the two strains, WT or I3, has higher growth?\n",
    "\n",
    "2. Does this surprise you? What could be a possible explanation, knowing that I3 has been engineered? (Hint: think about the first part of this tutorial)"
   ]
  },
  {
   "cell_type": "markdown",
   "id": "facf5f86",
   "metadata": {},
   "source": [
    "### 4.3 Understanding relationships between engineering & metabolism"
   ]
  },
  {
   "cell_type": "markdown",
   "id": "467963b1",
   "metadata": {},
   "source": [
    "#### 4.3.1 Glycolytic metabolites"
   ]
  },
  {
   "cell_type": "markdown",
   "id": "08b249dc",
   "metadata": {},
   "source": [
    "In this section, we are going to analyze changes in the metabolite concentrations. Most of the measurements in the data\n",
    "file you loaded are given in uM (microMolar) concentration units. \n",
    "\n",
    "We will start looking at metabolites that you are already familar with, namely glycolytic metabolites. \n",
    "\n",
    "In the next cell, I provide a list of some of the glycolytic metabolite ID's. You can use this list to\n",
    "understand what their full names are from the data file that you loaded earlier. "
   ]
  },
  {
   "cell_type": "code",
   "execution_count": 20,
   "id": "7d23f47f",
   "metadata": {},
   "outputs": [],
   "source": [
    "gly_mets = ['nad_c','pep_c','adp_c','amp_c','lac__D_c','nadp_c','atp_c','3pg_c','pyr_c']\n"
   ]
  },
  {
   "cell_type": "markdown",
   "id": "c8e79078",
   "metadata": {},
   "source": [
    "You can use the list, gly_mets, to select only the rows you want to print out from the original data file, which\n",
    "contains many more metabolites. You can do this by using the command: \n",
    "    \n",
    "> .isin(list)\n",
    "\n",
    "Here, we are selecting the set of metabolites that we are interested in (the glycolytic ones in this case).\n",
    "We have stored all of them in a list called \"gly_mets\". We can use the above command on the pandas dataframe\n",
    "that has the original data stored in it, called \"metabolite_IDs\". Important: the column with the metabolite\n",
    "IDs is called \"BiGG_id\", so we have to select that column and tell pandas that that is the place to search\n",
    "for the metabolites in our list. This becomes the following command:"
   ]
  },
  {
   "cell_type": "code",
   "execution_count": null,
   "id": "48fe5e9f",
   "metadata": {},
   "outputs": [],
   "source": [
    "metabolite_IDs[metabolite_IDs.BiGG_id.isin(gly_mets)]"
   ]
  },
  {
   "cell_type": "markdown",
   "id": "6bf0b15a",
   "metadata": {},
   "source": [
    "Now we can take a slice of our metabolomics data by only considering the glycolytic metabolites. \n",
    "\n",
    "In the \"WT_data\" and \"I3_data\" dataframes, the metabolites measurements are stored in columns. \n",
    "This makes it easy to slice this dataframe, we simply tell pandas which columns we want.\n",
    "\n",
    "Note: you may notice that there are some rows that do not have growth measurements or metabolite measurements. \n",
    "    We will leave out these rows by telling pandas that we only want rows with OD600 > 0 (where the growth is above zero)\n",
    "    \n",
    "> For example, WT_data[WT_data.OD600 > 0] will select only the rows where growth is above zero\n",
    "\n",
    "Then, we can select all the columns we want, which will correspond to our glycolytic metabolites:"
   ]
  },
  {
   "cell_type": "code",
   "execution_count": null,
   "id": "14bdfb1d",
   "metadata": {},
   "outputs": [],
   "source": [
    "WT_glycolysis = WT_data[WT_data['OD600'] > 0][['Hour','OD600'] + gly_mets].set_index('Hour')\n",
    "WT_glycolysis"
   ]
  },
  {
   "cell_type": "code",
   "execution_count": null,
   "id": "a8697b33",
   "metadata": {
    "scrolled": true
   },
   "outputs": [],
   "source": [
    "I3_glycolysis = I3_data[I3_data['OD600'] > 0][['Hour','OD600'] + gly_mets].set_index('Hour')\n",
    "I3_glycolysis"
   ]
  },
  {
   "cell_type": "markdown",
   "id": "ee9d9aae",
   "metadata": {},
   "source": [
    "Now we want to assess differences between wild-type (WT) and engineered (I3) strains. \n",
    "\n",
    "To do this, we can subtract the two dataframes, using the .subtract() command: "
   ]
  },
  {
   "cell_type": "code",
   "execution_count": null,
   "id": "8bf9c5b5",
   "metadata": {},
   "outputs": [],
   "source": [
    "DF_diff = I3_glycolysis.subtract(WT_glycolysis,axis = 0)\n",
    "\n",
    "DF_diff"
   ]
  },
  {
   "cell_type": "markdown",
   "id": "dcef2541",
   "metadata": {},
   "source": [
    "This gives us a difference dataframe (\"DF_diff\") equivalent to I3 - WT\n",
    "\n",
    "We can use this difference dataframe to plot differences in metabolite concentrations over 70 hrs\n",
    "\n",
    "An example has been given to you below for ATP versus AMP"
   ]
  },
  {
   "cell_type": "code",
   "execution_count": null,
   "id": "cd1d1440",
   "metadata": {},
   "outputs": [],
   "source": [
    "# create data\n",
    "x1 = DF_diff.index.tolist()\n",
    "y1 = DF_diff.atp_c.tolist()\n",
    "\n",
    "x2 = DF_diff.index.tolist()\n",
    "y2 = DF_diff.amp_c.tolist()\n",
    "\n",
    "# plot lines\n",
    "plt.plot(x1, y1, label = \"ATP\")\n",
    "plt.plot(x2, y2, label = \"AMP\")\n",
    "plt.legend()\n",
    "plt.xlabel(\"Time (Hours)\")\n",
    "plt.ylabel(\"Concentration (uM)\")\n",
    "plt.show()\n"
   ]
  },
  {
   "cell_type": "markdown",
   "id": "faef3020",
   "metadata": {},
   "source": [
    "A handy technique is to loop over every column (growth or metabolite) and plot the corresponding data\n",
    "(as opposed to plotting each one by one).\n",
    "\n",
    "***Try on your own***\n",
    "\n",
    "Can you look through the below script to see how this was done? What is generalized in the plot above (ATP/AMP) to enable looping over the columns? Find each part of the script that has been replaced by this generalization.\n",
    "\n",
    "The code is provided for you below, once you run it you will see the output of all the plots."
   ]
  },
  {
   "cell_type": "code",
   "execution_count": null,
   "id": "c91abe23",
   "metadata": {},
   "outputs": [],
   "source": [
    "##Plotting all the Glycolytic Metabolites Together\n",
    "#Filter only gly_mets from DF_diff columns\n",
    "#Step 1: assigning a empty list\n",
    "gly_mets_list = []\n",
    "\n",
    "# Step 2: Loop through each column name in the DataFrame DF_diff\n",
    "for col in DF_diff.columns:\n",
    "    # Step 3: Check if the column name ends with '_c' to add only glycolytic metabolites \n",
    "    if col.endswith('_c'):\n",
    "        # Step 4: Add the column name to the list if it meets the condition\n",
    "        gly_mets_list.append(col)\n",
    "        \n",
    "#Plotting all metabolites together\n",
    "plt.figure(figsize=(12, 8))\n",
    "for i in gly_mets_list:\n",
    "    # Create data\n",
    "    x1 = DF_diff.index.tolist()  # x-values, the timeframe\n",
    "    y1 = DF_diff[i].tolist()     # y-values, diff. in metabolites growth\n",
    "    # Plot the line for each column\n",
    "    plt.plot(x1, y1, label=i)\n",
    "\n",
    "# Adding legend, labels, and title after the loop\n",
    "plt.legend()\n",
    "plt.xlabel(\"Time (Hours)\")\n",
    "plt.ylabel(\"Diff. in Growth Measurements\")\n",
    "plt.title(\"Glycolytic Metabolities Measurements\")\n",
    "\n",
    "# Show all plots in one figure\n",
    "plt.show()\n",
    "\n",
    "\n",
    "##Plotting all metabolites separate\n",
    "\n",
    "for i in gly_mets_list:\n",
    "    # Create data\n",
    "    x1 = DF_diff.index.tolist()  # x-values, the timeframe\n",
    "    y1 = DF_diff[i].tolist()     # y-values, diff. in metabolites growth\n",
    "    # Plot the line for each column\n",
    "    plt.plot(x1, y1, label=i)\n",
    "\n",
    "    # Adding legend, labels, and title after the loop\n",
    "    plt.legend()\n",
    "    plt.xlabel(\"Time (Hours)\")\n",
    "\n",
    "    # Show all plots in one figure\n",
    "    plt.show()"
   ]
  },
  {
   "cell_type": "markdown",
   "id": "48a4a706",
   "metadata": {},
   "source": [
    "## Exercise\n",
    "\n",
    "**Try on your own**\n",
    "\n",
    "1. Do any metabolites stand out in terms of higher concentrations in I3 versus WT?\n",
    "\n",
    "\n",
    "2. Which metabolites are in higher concentrations in I3 versus WT early in the growth phase (1st 3 time points) compared to\n",
    "those that increase in I3 at later time points?\n",
    "\n",
    "3. Can you think about what might be happening in the metabolic networks that might cause these changes based on the paper?\n"
   ]
  },
  {
   "cell_type": "markdown",
   "id": "52081758",
   "metadata": {},
   "source": [
    "## 4.3.2 Amino acid metabolites"
   ]
  },
  {
   "cell_type": "markdown",
   "id": "baf61bac",
   "metadata": {},
   "source": [
    "## Exercise\n",
    "\n",
    "**Try on your own**\n",
    "\n",
    "1. Perform the same above analysis (4.3.1) but now do this for all of the amino acid metabolites instead of the glycolytic metabolites\n",
    "  \n",
    "2. Do any amino acids stand out in terms of higher concentrations in I3 versus WT?\n",
    " #Hint: Try to plot all amino acid measurements in one plot so that you can see the growth differences relative to each other. \n",
    "\n",
    "3. Which amino acids are in higher concentrations in I3 versus WT early in the growth phase (1st 3 time points) compared to\n",
    "those that increase in I3 at later time points?\n",
    "#Hint: Plotting amino acid measurements separately might be easier to see changes individually.\n",
    "\n",
    "4. Can you think about what might be happening in the metabolic networks that might cause these changes?\n",
    "\n"
   ]
  },
  {
   "cell_type": "code",
   "execution_count": null,
   "id": "b8212a76",
   "metadata": {},
   "outputs": [],
   "source": [
    "##Plotting all amino acid metabolites together\n",
    "# Define amino acid metabolites list once\n",
    "amino_acid_mets = [\n",
    "    'gly_c', 'ala__L_c', 'val__L_c', 'leu__L_c', 'ile__L_c', 'met__L_c', 'phe__L_c', \n",
    "    'trp__L_c', 'pro__L_c', 'his__L_c', 'lys__L_c', 'arg__L_c', 'asp__L_c', 'glu__L_c', \n",
    "    'ser__L_c', 'thr__L_c', 'cys__L_c', 'tyr__L_c', 'asn__L_c', 'gln__L_c'\n",
    "]\n",
    "\n",
    " # Extract data for WT and I3\n",
    "WT_amino_acid = WT_data[WT_data['OD600'] > 0][['Hour'] + amino_acid_mets].set_index('Hour')\n",
    "I3_amino_acid = I3_data[I3_data['OD600'] > 0][['Hour'] + amino_acid_mets].set_index('Hour')\n",
    "\n",
    "# Subtract data\n",
    "DF_amino_acid_diff = I3_amino_acid.subtract(WT_amino_acid, axis=0)\n",
    "\n",
    "plt.figure(figsize=(12, 8))\n",
    "for i in DF_amino_acid_diff.columns.tolist():\n",
    "    # Create data\n",
    "    x1 = DF_amino_acid_diff.index.tolist()  # x-values (typically time or index)\n",
    "    y1 = DF_amino_acid_diff[i].tolist()     # y-values for the specific column\n",
    "\n",
    "    # Plot each line (data series)\n",
    "    plt.plot(x1, y1, label=i)\n",
    "\n",
    "# Add a legend and labels after the loop\n",
    "plt.legend()\n",
    "plt.xlabel(\"Time (Hours)\")\n",
    "plt.ylabel(\"Diff. in Amino Acid measurements\")  # Set the y-label once, outside the loop\n",
    "plt.title(\"Amino Acid Measurements Over Time\")  # Optional title\n",
    "\n",
    "# Show the plot\n",
    "plt.show()"
   ]
  },
  {
   "cell_type": "code",
   "execution_count": null,
   "id": "7ccdcf26-ce6b-4826-bb24-3159cd4f01d9",
   "metadata": {},
   "outputs": [],
   "source": []
  }
 ],
 "metadata": {
  "kernelspec": {
   "display_name": "Python 3 (ipykernel)",
   "language": "python",
   "name": "python3"
  },
  "language_info": {
   "codemirror_mode": {
    "name": "ipython",
    "version": 3
   },
   "file_extension": ".py",
   "mimetype": "text/x-python",
   "name": "python",
   "nbconvert_exporter": "python",
   "pygments_lexer": "ipython3",
   "version": "3.12.8"
  }
 },
 "nbformat": 4,
 "nbformat_minor": 5
}
